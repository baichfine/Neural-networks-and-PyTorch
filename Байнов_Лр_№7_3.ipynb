{
  "nbformat": 4,
  "nbformat_minor": 0,
  "metadata": {
    "language_info": {
      "codemirror_mode": {
        "name": "ipython",
        "version": 3
      },
      "file_extension": ".py",
      "mimetype": "text/x-python",
      "name": "python",
      "nbconvert_exporter": "python",
      "pygments_lexer": "ipython3",
      "version": "3.8.1-final"
    },
    "orig_nbformat": 2,
    "kernelspec": {
      "name": "python3",
      "display_name": "Python 3"
    },
    "colab": {
      "name": "lab8_task3.ipynb",
      "provenance": []
    }
  },
  "cells": [
    {
      "cell_type": "markdown",
      "metadata": {
        "id": "A4sYVrWn_3mJ"
      },
      "source": [
        "требуется реализовать полноценный класс батч-нормализации без использования стандартной функции, принимающий на вход двумерный тензор. Обратите внимание: расчёт дисперсии ведётся по смещенной выборке, а расчет скользящего среднего по несмещенной."
      ]
    },
    {
      "cell_type": "code",
      "metadata": {
        "id": "5rrX-UTw_3mO"
      },
      "source": [
        "import torch\n",
        "import torch.nn as nn\n",
        "\n",
        "input_size = 3\n",
        "batch_size = 5\n",
        "eps = 1e-1\n",
        "\n",
        "\n",
        "class CustomBatchNorm1d:\n",
        "    def __init__(self, weight, bias, eps, momentum):\n",
        "        self.predict=False\n",
        "        self.G = weight\n",
        "        self.B = bias\n",
        "        self.eps = eps\n",
        "        self.momentum = momentum\n",
        "        self.M = torch.Tensor(input_size).zero_()\n",
        "        self.D = torch.Tensor(input_size).fill_(1)\n",
        "\n",
        "        \n",
        "    def __call__(self, input_tensor):\n",
        "        if self.predict==False:\n",
        "            normed_tensor = self.G*((input_tensor - input_tensor.mean(dim=0)) / torch.sqrt(input_tensor.var(dim=0, unbiased=False) + self.eps)) + self.B\n",
        "            self.M = (1 - self.momentum) * self.M + input_tensor.mean(dim=0) * self.momentum\n",
        "            self.D = ((1 - self.momentum) * input_tensor.var(dim=0, unbiased=False) * batch_size) / (batch_size - 1) + self.momentum * self.D\n",
        "        else:\n",
        "            normed_tensor = self.G*((input_tensor - self.M) / torch.sqrt(self.D + self.eps)) + self.B\n",
        "        return normed_tensor\n",
        "\n",
        "    def eval(self):\n",
        "        self.predict = True\n",
        "\n",
        "batch_norm = nn.BatchNorm1d(input_size, eps=eps)\n",
        "batch_norm.bias.data = torch.randn(input_size, dtype=torch.float)\n",
        "batch_norm.weight.data = torch.randn(input_size, dtype=torch.float)\n",
        "batch_norm.momentum = 0.5\n",
        "\n",
        "custom_batch_norm1d = CustomBatchNorm1d(batch_norm.weight.data, batch_norm.bias.data, eps, batch_norm.momentum)\n",
        "\n"
      ],
      "execution_count": 77,
      "outputs": []
    },
    {
      "cell_type": "code",
      "metadata": {
        "id": "LAW8uIJD_3mg",
        "colab": {
          "base_uri": "https://localhost:8080/"
        },
        "outputId": "a509a6a5-f168-412f-9e0f-3bc0d2af705a"
      },
      "source": [
        "# Проверка происходит автоматически вызовом следующего кода\n",
        "\n",
        "all_correct = True\n",
        "\n",
        "for i in range(8):\n",
        "    torch_input = torch.randn(batch_size, input_size, dtype=torch.float)\n",
        "    norm_output = batch_norm(torch_input)\n",
        "    custom_output = custom_batch_norm1d(torch_input)\n",
        "    all_correct &= torch.allclose(norm_output, custom_output) \\\n",
        "        and norm_output.shape == custom_output.shape\n",
        "\n",
        "batch_norm.eval()\n",
        "custom_batch_norm1d.eval()\n",
        "\n",
        "for i in range(8):\n",
        "    torch_input = torch.randn(batch_size, input_size, dtype=torch.float)\n",
        "    norm_output = batch_norm(torch_input)\n",
        "    custom_output = custom_batch_norm1d(torch_input)\n",
        "    all_correct &= torch.allclose(norm_output, custom_output) \\\n",
        "        and norm_output.shape == custom_output.shape\n",
        "print(all_correct)"
      ],
      "execution_count": 78,
      "outputs": [
        {
          "output_type": "stream",
          "text": [
            "True\n"
          ],
          "name": "stdout"
        }
      ]
    }
  ]
}