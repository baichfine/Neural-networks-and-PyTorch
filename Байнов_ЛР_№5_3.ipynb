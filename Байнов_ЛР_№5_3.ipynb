{
  "nbformat": 4,
  "nbformat_minor": 0,
  "metadata": {
    "orig_nbformat": 2,
    "file_extension": ".py",
    "mimetype": "text/x-python",
    "name": "python",
    "npconvert_exporter": "python",
    "pygments_lexer": "ipython3",
    "version": 3,
    "colab": {
      "name": "lab5_Task3.ipynb",
      "provenance": []
    },
    "language_info": {
      "name": "python"
    },
    "kernelspec": {
      "name": "python3",
      "display_name": "Python 3"
    }
  },
  "cells": [
    {
      "cell_type": "markdown",
      "metadata": {
        "id": "_2CwsGXesktC"
      },
      "source": [
        "Реализуем сверточный слой различными способами.\n",
        "\n",
        "Тестировать правильность реализации мы будем, сравнивая результаты работы с выходом  <a href=\"https://pytorch.org/docs/stable/nn.html#conv2d\"> сверточного слоя из PyTorch.</a>\n",
        "\n",
        " \n",
        "\n",
        "Для удобства все наши реализации оформим в виде классов. Интерфейс классов сделаем одинаковым и максимально похожим на интерфейс стандартной реализации.\n",
        "\n",
        "Тестировать наши реализации слоя будем одной и той же функцией.\n",
        "\n",
        "*Паддить вход вы уже умеете - будем считать, что padding = 0.\n",
        "\n",
        " \n",
        "\n",
        "В этом задании вам предлагается изучить код для проверки.\n"
      ]
    },
    {
      "cell_type": "code",
      "metadata": {
        "colab": {
          "base_uri": "https://localhost:8080/"
        },
        "id": "nIgQDktPsktD",
        "outputId": "703ccda5-9f36-4927-fa42-ee3e51b510b1"
      },
      "source": [
        "\n",
        "import torch\n",
        "from abc import ABC, abstractmethod\n",
        "\n",
        "\n",
        "# абстрактный класс для сверточного слоя\n",
        "class ABCConv2d(ABC):\n",
        "    def __init__(self, in_channels, out_channels, kernel_size, stride):\n",
        "        self.in_channels = in_channels\n",
        "        self.out_channels = out_channels\n",
        "        self.kernel_size = kernel_size\n",
        "        self.stride = stride\n",
        "\n",
        "    def set_kernel(self, kernel):\n",
        "        self.kernel = kernel\n",
        "\n",
        "    @abstractmethod\n",
        "    def __call__(self, input_tensor):\n",
        "        pass\n",
        "\n",
        "\n",
        "# класс-обертка над torch.nn.Conv2d для унификации интерфейса\n",
        "class Conv2d(ABCConv2d):\n",
        "    def __init__(self, in_channels, out_channels, kernel_size, stride):\n",
        "        self.conv2d = torch.nn.Conv2d(in_channels, out_channels, kernel_size,\n",
        "                                      stride, padding=0, bias=False)\n",
        "\n",
        "    def set_kernel(self, kernel):\n",
        "        self.conv2d.weight.data = kernel\n",
        "\n",
        "    def __call__(self, input_tensor):\n",
        "        return self.conv2d(input_tensor)\n",
        "\n",
        "\n",
        "# функция, создающая объект класса cls и возвращающая свертку от input_matrix\n",
        "def create_and_call_conv2d_layer(conv2d_layer_class, stride, kernel, input_matrix):\n",
        "    out_channels = kernel.shape[0]\n",
        "    in_channels = kernel.shape[1]\n",
        "    kernel_size = kernel.shape[2]\n",
        "\n",
        "    layer = conv2d_layer_class(in_channels, out_channels, kernel_size, stride)\n",
        "    layer.set_kernel(kernel)\n",
        "\n",
        "    return layer(input_matrix)\n",
        "\n",
        "\n",
        "# Функция, тестирующая класс conv2d_cls.\n",
        "# Возвращает True, если свертка совпадает со сверткой с помощью torch.nn.Conv2d.\n",
        "def test_conv2d_layer(conv2d_layer_class, batch_size=2,\n",
        "                      input_height=4, input_width=4, stride=2):\n",
        "    kernel = torch.tensor(\n",
        "                      [[[[0., 1, 0],\n",
        "                         [1,  2, 1],\n",
        "                         [0,  1, 0]],\n",
        "\n",
        "                        [[1, 2, 1],\n",
        "                         [0, 3, 3],\n",
        "                         [0, 1, 10]],\n",
        "\n",
        "                        [[10, 11, 12],\n",
        "                         [13, 14, 15],\n",
        "                         [16, 17, 18]]]])\n",
        "\n",
        "    in_channels = kernel.shape[1]\n",
        "\n",
        "    input_tensor = torch.arange(0, batch_size * in_channels *\n",
        "                                input_height * input_width,\n",
        "                                out=torch.FloatTensor()) \\\n",
        "        .reshape(batch_size, in_channels, input_height, input_width)\n",
        "\n",
        "    custom_conv2d_out = create_and_call_conv2d_layer(\n",
        "        conv2d_layer_class, stride, kernel, input_tensor)\n",
        "    conv2d_out = create_and_call_conv2d_layer(\n",
        "        Conv2d, stride, kernel, input_tensor)\n",
        "\n",
        "    return torch.allclose(custom_conv2d_out, conv2d_out) \\\n",
        "              and (custom_conv2d_out.shape == conv2d_out.shape)\n",
        "\n",
        "print(test_conv2d_layer(Conv2d))"
      ],
      "execution_count": 10,
      "outputs": [
        {
          "output_type": "stream",
          "text": [
            "True\n"
          ],
          "name": "stdout"
        }
      ]
    }
  ]
}