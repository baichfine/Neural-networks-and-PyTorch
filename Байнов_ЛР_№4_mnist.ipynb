{
  "nbformat": 4,
  "nbformat_minor": 0,
  "metadata": {
    "accelerator": "GPU",
    "colab": {
      "name": "lab4_mnist.ipynb",
      "provenance": [],
      "collapsed_sections": []
    },
    "kernelspec": {
      "display_name": "Python 3",
      "language": "python",
      "name": "python3"
    },
    "language_info": {
      "codemirror_mode": {
        "name": "ipython",
        "version": 3
      },
      "file_extension": ".py",
      "mimetype": "text/x-python",
      "name": "python",
      "nbconvert_exporter": "python",
      "pygments_lexer": "ipython3",
      "version": "3.6.8"
    }
  },
  "cells": [
    {
      "cell_type": "code",
      "metadata": {
        "id": "DWr6cvb9pS3J"
      },
      "source": [
        "import torch\n",
        "import random\n",
        "import numpy as np\n",
        "\n",
        "random.seed(0)\n",
        "np.random.seed(0)\n",
        "torch.manual_seed(0)\n",
        "torch.cuda.manual_seed(0)\n",
        "torch.backends.cudnn.deterministic = True"
      ],
      "execution_count": 1,
      "outputs": []
    },
    {
      "cell_type": "code",
      "metadata": {
        "id": "MqGQWTDIpS3R"
      },
      "source": [
        "import torchvision.datasets\n",
        "MNIST_train = torchvision.datasets.MNIST('./', download=True, train=True)\n",
        "MNIST_test = torchvision.datasets.MNIST('./', download=True, train=False)"
      ],
      "execution_count": 2,
      "outputs": []
    },
    {
      "cell_type": "code",
      "metadata": {
        "colab": {
          "base_uri": "https://localhost:8080/"
        },
        "id": "vv_Lz7PYpS3U",
        "outputId": "2ec76564-540d-4b47-dd96-4992dc199ebd"
      },
      "source": [
        "X_train = MNIST_train.train_data\n",
        "y_train = MNIST_train.train_labels\n",
        "X_test = MNIST_test.test_data\n",
        "y_test = MNIST_test.test_labels"
      ],
      "execution_count": 3,
      "outputs": [
        {
          "output_type": "stream",
          "text": [
            "/usr/local/lib/python3.7/dist-packages/torchvision/datasets/mnist.py:64: UserWarning: train_data has been renamed data\n",
            "  warnings.warn(\"train_data has been renamed data\")\n",
            "/usr/local/lib/python3.7/dist-packages/torchvision/datasets/mnist.py:54: UserWarning: train_labels has been renamed targets\n",
            "  warnings.warn(\"train_labels has been renamed targets\")\n",
            "/usr/local/lib/python3.7/dist-packages/torchvision/datasets/mnist.py:69: UserWarning: test_data has been renamed data\n",
            "  warnings.warn(\"test_data has been renamed data\")\n",
            "/usr/local/lib/python3.7/dist-packages/torchvision/datasets/mnist.py:59: UserWarning: test_labels has been renamed targets\n",
            "  warnings.warn(\"test_labels has been renamed targets\")\n"
          ],
          "name": "stderr"
        }
      ]
    },
    {
      "cell_type": "code",
      "metadata": {
        "colab": {
          "base_uri": "https://localhost:8080/"
        },
        "id": "hMhsAedlrQF5",
        "outputId": "08475109-0f80-4c67-aa52-d8df748119da"
      },
      "source": [
        "X_train.dtype, y_train.dtype"
      ],
      "execution_count": 4,
      "outputs": [
        {
          "output_type": "execute_result",
          "data": {
            "text/plain": [
              "(torch.uint8, torch.int64)"
            ]
          },
          "metadata": {
            "tags": []
          },
          "execution_count": 4
        }
      ]
    },
    {
      "cell_type": "code",
      "metadata": {
        "id": "_yTaVOrPvap6"
      },
      "source": [
        "X_train = X_train.float()\n",
        "X_test = X_test.float()"
      ],
      "execution_count": 5,
      "outputs": []
    },
    {
      "cell_type": "code",
      "metadata": {
        "colab": {
          "base_uri": "https://localhost:8080/"
        },
        "id": "_gfupg4kpS3X",
        "outputId": "641be20b-ae08-41b4-a728-f8ab4f6794f1"
      },
      "source": [
        "X_train.shape, X_test.shape"
      ],
      "execution_count": 6,
      "outputs": [
        {
          "output_type": "execute_result",
          "data": {
            "text/plain": [
              "(torch.Size([60000, 28, 28]), torch.Size([10000, 28, 28]))"
            ]
          },
          "metadata": {
            "tags": []
          },
          "execution_count": 6
        }
      ]
    },
    {
      "cell_type": "code",
      "metadata": {
        "colab": {
          "base_uri": "https://localhost:8080/"
        },
        "id": "zEC1RXBEz_SW",
        "outputId": "9f4d0d72-2c83-4c5f-f730-64229f5ed378"
      },
      "source": [
        "y_train.shape, y_test.shape"
      ],
      "execution_count": 7,
      "outputs": [
        {
          "output_type": "execute_result",
          "data": {
            "text/plain": [
              "(torch.Size([60000]), torch.Size([10000]))"
            ]
          },
          "metadata": {
            "tags": []
          },
          "execution_count": 7
        }
      ]
    },
    {
      "cell_type": "code",
      "metadata": {
        "colab": {
          "base_uri": "https://localhost:8080/",
          "height": 282
        },
        "id": "Z1tFXMwJpS3e",
        "outputId": "d15e7868-6dd1-4648-c954-e603af9786ef"
      },
      "source": [
        "import matplotlib.pyplot as plt\n",
        "plt.imshow(X_train[0, :, :])\n",
        "plt.show()\n",
        "print(y_train[0])"
      ],
      "execution_count": 8,
      "outputs": [
        {
          "output_type": "display_data",
          "data": {
            "image/png": "[encoded data removed]",
            "text/plain": [
              "<Figure size 432x288 with 1 Axes>"
            ]
          },
          "metadata": {
            "tags": [],
            "needs_background": "light"
          }
        },
        {
          "output_type": "stream",
          "text": [
            "tensor(5)\n"
          ],
          "name": "stdout"
        }
      ]
    },
    {
      "cell_type": "code",
      "metadata": {
        "id": "IUZgNg7zpS3j"
      },
      "source": [
        "X_train = X_train.reshape([-1, 28 * 28])\n",
        "X_test = X_test.reshape([-1, 28 * 28])"
      ],
      "execution_count": 9,
      "outputs": []
    },
    {
      "cell_type": "code",
      "metadata": {
        "id": "k7l65slppS3l"
      },
      "source": [
        "class MNISTNet(torch.nn.Module):\n",
        "    def __init__(self, n_hidden_neurons):\n",
        "        super(MNISTNet, self).__init__()\n",
        "        self.fc1 = torch.nn.Linear(28 * 28, n_hidden_neurons)\n",
        "        self.ac1 = torch.nn.Sigmoid()\n",
        "        self.fc2 = torch.nn.Linear(n_hidden_neurons, 10) \n",
        "    \n",
        "    def forward(self, x):\n",
        "        x = self.fc1(x)\n",
        "        x = self.ac1(x)\n",
        "        x = self.fc2(x)\n",
        "        return x\n",
        "    \n",
        "mnist_net = MNISTNet(100)"
      ],
      "execution_count": 10,
      "outputs": []
    },
    {
      "cell_type": "code",
      "metadata": {
        "colab": {
          "base_uri": "https://localhost:8080/"
        },
        "id": "FJp7t3dR0pC5",
        "outputId": "4e4e6743-f676-45b7-be92-4c7f0b28b73b"
      },
      "source": [
        " torch.cuda.is_available()"
      ],
      "execution_count": 11,
      "outputs": [
        {
          "output_type": "execute_result",
          "data": {
            "text/plain": [
              "True"
            ]
          },
          "metadata": {
            "tags": []
          },
          "execution_count": 11
        }
      ]
    },
    {
      "cell_type": "code",
      "metadata": {
        "id": "ShQDv_w-0rz8"
      },
      "source": [
        "# !nvidia-smi"
      ],
      "execution_count": 12,
      "outputs": []
    },
    {
      "cell_type": "code",
      "metadata": {
        "id": "iUHy-780po9d"
      },
      "source": [
        " device = torch.device('cuda:0' if torch.cuda.is_available() else 'cpu')\n",
        " mnist_net = mnist_net.to(device)"
      ],
      "execution_count": 13,
      "outputs": []
    },
    {
      "cell_type": "code",
      "metadata": {
        "id": "00_2j2igpS3o"
      },
      "source": [
        "loss = torch.nn.CrossEntropyLoss()\n",
        "#optimizer = torch.optim.Adam(mnist_net.parameters(), lr=1.0e-3)\n",
        "#optimizer = torch.optim.RMSprop(mnist_net.parameters(), lr=0.01, alpha=0.99, eps=1e-08, weight_decay=0, momentum=0, centered=False)\n",
        "optimizer = torch.optim.Adadelta(mnist_net.parameters(), lr=1.0, rho=0.9, eps=1e-06, weight_decay=0)\n",
        "#optimizer = torch.optim.AdamW(mnist_net.parameters(), lr=0.001, betas=(0.9, 0.999), eps=1e-08, weight_decay=0.01, amsgrad=False)\n"
      ],
      "execution_count": 14,
      "outputs": []
    },
    {
      "cell_type": "code",
      "metadata": {
        "colab": {
          "base_uri": "https://localhost:8080/"
        },
        "id": "wZtqiGvfpS3r",
        "outputId": "5a69ed67-f270-4593-94b0-153f0a03f94c"
      },
      "source": [
        "batch_size = 100\n",
        "\n",
        "test_accuracy_history = []\n",
        "test_loss_history = []\n",
        "train_accuracy_history = []\n",
        "train_loss_history = []\n",
        "\n",
        "X_test = X_test.to(device)\n",
        "y_test = y_test.to(device)\n",
        "\n",
        "for epoch in range(100):\n",
        "    order = np.random.permutation(len(X_train))\n",
        "    \n",
        "    for start_index in range(0, len(X_train), batch_size):\n",
        "        optimizer.zero_grad()\n",
        "        \n",
        "        batch_indexes = order[start_index:start_index+batch_size]\n",
        "        \n",
        "        X_batch = X_train[batch_indexes].to(device)\n",
        "        y_batch = y_train[batch_indexes].to(device)\n",
        "        \n",
        "        preds = mnist_net.forward(X_batch) \n",
        "        \n",
        "        loss_value = loss(preds, y_batch)\n",
        "        loss_value.backward()\n",
        "        \n",
        "        optimizer.step()\n",
        "\n",
        "    test_preds = mnist_net.forward(X_test)\n",
        "    train_loss_history.append(loss(preds, y_batch).data.cpu())\n",
        "    test_loss_history.append(loss(test_preds, y_test))\n",
        "    \n",
        "    accuracy = (preds.argmax(dim=1) == y_batch).float().mean().data.cpu()\n",
        "    train_accuracy_history.append(accuracy)\n",
        "    accuracy = (test_preds.argmax(dim=1) == y_test).float().mean()\n",
        "    test_accuracy_history.append(accuracy)\n",
        "    print(accuracy)\n",
        "\n",
        "accuracies_train = train_accuracy_history\n",
        "accuracies_test = test_accuracy_history\n",
        "losses_train = train_loss_history\n",
        "losses_test = test_loss_history"
      ],
      "execution_count": 15,
      "outputs": [
        {
          "output_type": "stream",
          "text": [
            "tensor(0.9160, device='cuda:0')\n",
            "tensor(0.9260, device='cuda:0')\n",
            "tensor(0.9273, device='cuda:0')\n",
            "tensor(0.9402, device='cuda:0')\n",
            "tensor(0.9431, device='cuda:0')\n",
            "tensor(0.9441, device='cuda:0')\n",
            "tensor(0.9449, device='cuda:0')\n",
            "tensor(0.9458, device='cuda:0')\n",
            "tensor(0.9495, device='cuda:0')\n",
            "tensor(0.9484, device='cuda:0')\n",
            "tensor(0.9490, device='cuda:0')\n",
            "tensor(0.9517, device='cuda:0')\n",
            "tensor(0.9520, device='cuda:0')\n",
            "tensor(0.9506, device='cuda:0')\n",
            "tensor(0.9497, device='cuda:0')\n",
            "tensor(0.9535, device='cuda:0')\n",
            "tensor(0.9553, device='cuda:0')\n",
            "tensor(0.9568, device='cuda:0')\n",
            "tensor(0.9536, device='cuda:0')\n",
            "tensor(0.9584, device='cuda:0')\n",
            "tensor(0.9562, device='cuda:0')\n",
            "tensor(0.9564, device='cuda:0')\n",
            "tensor(0.9550, device='cuda:0')\n",
            "tensor(0.9568, device='cuda:0')\n",
            "tensor(0.9584, device='cuda:0')\n",
            "tensor(0.9604, device='cuda:0')\n",
            "tensor(0.9588, device='cuda:0')\n",
            "tensor(0.9596, device='cuda:0')\n",
            "tensor(0.9587, device='cuda:0')\n",
            "tensor(0.9587, device='cuda:0')\n",
            "tensor(0.9592, device='cuda:0')\n",
            "tensor(0.9560, device='cuda:0')\n",
            "tensor(0.9587, device='cuda:0')\n",
            "tensor(0.9556, device='cuda:0')\n",
            "tensor(0.9576, device='cuda:0')\n",
            "tensor(0.9591, device='cuda:0')\n",
            "tensor(0.9598, device='cuda:0')\n",
            "tensor(0.9589, device='cuda:0')\n",
            "tensor(0.9603, device='cuda:0')\n",
            "tensor(0.9585, device='cuda:0')\n",
            "tensor(0.9602, device='cuda:0')\n",
            "tensor(0.9591, device='cuda:0')\n",
            "tensor(0.9596, device='cuda:0')\n",
            "tensor(0.9584, device='cuda:0')\n",
            "tensor(0.9588, device='cuda:0')\n",
            "tensor(0.9595, device='cuda:0')\n",
            "tensor(0.9621, device='cuda:0')\n",
            "tensor(0.9611, device='cuda:0')\n",
            "tensor(0.9619, device='cuda:0')\n",
            "tensor(0.9582, device='cuda:0')\n",
            "tensor(0.9616, device='cuda:0')\n",
            "tensor(0.9630, device='cuda:0')\n",
            "tensor(0.9604, device='cuda:0')\n",
            "tensor(0.9609, device='cuda:0')\n",
            "tensor(0.9608, device='cuda:0')\n",
            "tensor(0.9604, device='cuda:0')\n",
            "tensor(0.9627, device='cuda:0')\n",
            "tensor(0.9617, device='cuda:0')\n",
            "tensor(0.9644, device='cuda:0')\n",
            "tensor(0.9613, device='cuda:0')\n",
            "tensor(0.9614, device='cuda:0')\n",
            "tensor(0.9617, device='cuda:0')\n",
            "tensor(0.9627, device='cuda:0')\n",
            "tensor(0.9636, device='cuda:0')\n",
            "tensor(0.9618, device='cuda:0')\n",
            "tensor(0.9641, device='cuda:0')\n",
            "tensor(0.9637, device='cuda:0')\n",
            "tensor(0.9619, device='cuda:0')\n",
            "tensor(0.9611, device='cuda:0')\n",
            "tensor(0.9634, device='cuda:0')\n",
            "tensor(0.9621, device='cuda:0')\n",
            "tensor(0.9611, device='cuda:0')\n",
            "tensor(0.9628, device='cuda:0')\n",
            "tensor(0.9632, device='cuda:0')\n",
            "tensor(0.9608, device='cuda:0')\n",
            "tensor(0.9640, device='cuda:0')\n",
            "tensor(0.9628, device='cuda:0')\n",
            "tensor(0.9622, device='cuda:0')\n",
            "tensor(0.9617, device='cuda:0')\n",
            "tensor(0.9638, device='cuda:0')\n",
            "tensor(0.9653, device='cuda:0')\n",
            "tensor(0.9636, device='cuda:0')\n",
            "tensor(0.9650, device='cuda:0')\n",
            "tensor(0.9629, device='cuda:0')\n",
            "tensor(0.9647, device='cuda:0')\n",
            "tensor(0.9656, device='cuda:0')\n",
            "tensor(0.9637, device='cuda:0')\n",
            "tensor(0.9624, device='cuda:0')\n",
            "tensor(0.9644, device='cuda:0')\n",
            "tensor(0.9616, device='cuda:0')\n",
            "tensor(0.9618, device='cuda:0')\n",
            "tensor(0.9614, device='cuda:0')\n",
            "tensor(0.9638, device='cuda:0')\n",
            "tensor(0.9637, device='cuda:0')\n",
            "tensor(0.9622, device='cuda:0')\n",
            "tensor(0.9623, device='cuda:0')\n",
            "tensor(0.9619, device='cuda:0')\n",
            "tensor(0.9616, device='cuda:0')\n",
            "tensor(0.9647, device='cuda:0')\n",
            "tensor(0.9632, device='cuda:0')\n"
          ],
          "name": "stdout"
        }
      ]
    },
    {
      "cell_type": "code",
      "metadata": {
        "colab": {
          "base_uri": "https://localhost:8080/",
          "height": 281
        },
        "id": "kLnumX3SpS3u",
        "outputId": "f1cf992e-f63f-48ad-9a6d-f5dc444e9dcf"
      },
      "source": [
        "plt.plot(accuracies_train, label='train')\n",
        "plt.plot(accuracies_test, label='test')\n",
        "plt.legend()\n",
        "plt.title('Validation Accuracy');"
      ],
      "execution_count": 16,
      "outputs": [
        {
          "output_type": "display_data",
          "data": {
            "image/png": "[encoded data removed]",
            "text/plain": [
              "<Figure size 432x288 with 1 Axes>"
            ]
          },
          "metadata": {
            "tags": [],
            "needs_background": "light"
          }
        }
      ]
    },
    {
      "cell_type": "code",
      "metadata": {
        "colab": {
          "base_uri": "https://localhost:8080/",
          "height": 281
        },
        "id": "0qs27F13fFet",
        "outputId": "f7b76f7b-b208-43a2-9e20-ef82393acbd5"
      },
      "source": [
        "plt.plot(losses_train, label='train')\n",
        "plt.plot(losses_test, label='test')\n",
        "plt.legend()\n",
        "plt.title('Validation Loss');"
      ],
      "execution_count": 17,
      "outputs": [
        {
          "output_type": "display_data",
          "data": {
            "image/png": "[encoded data removed]",
            "text/plain": [
              "<Figure size 432x288 with 1 Axes>"
            ]
          },
          "metadata": {
            "tags": [],
            "needs_background": "light"
          }
        }
      ]
    },
    {
      "cell_type": "markdown",
      "metadata": {
        "id": "symhNvUQjjwN"
      },
      "source": [
        "Accuracy на трейне и тесте значительно отличаются, accuracy на трейне имеет очень большую амплитуду и постоянно скачет, что приводит с разным значениям.\n",
        "\n",
        "Аналогичная ситуация и с loss на трей и тесте. Loss на трейне также очень сильно скачет. Но переобучение отсутсвует.\n",
        "\n",
        "При обучении 40 эпох максимальное значение accuracy равно 0.9493\n",
        "\n",
        "При обучении 200 эпох максимальное значение accuracy равно 0.9626\n",
        "\n",
        "CPU время выполнения 100 эпох 1 минута 41 секунда\n",
        "\n",
        "GPU время выполнения 100 эпох 3 минуты 21 секунда\n",
        "\n",
        "torch.backends.cudnn.deterministic = True ускоряет обучение, затраченное время с True (1.31 минута), а с False (1.49 минута)\n",
        "\n",
        "Все тесты выполнены были с оптимизатором Adam\n",
        "\n",
        "100 эпох\n",
        "Оптимизатор Adam accuracy - 0.9594\n",
        "\n",
        "Оптимизатор AdamW accuracy - 0.9588\n",
        "\n",
        "Оптимизатор RMSprop accuracy - 0.9344\n",
        "\n",
        "Оптимизатор Adadelta accuracy - 0.9647\n",
        "\n"
      ]
    }
  ]
}