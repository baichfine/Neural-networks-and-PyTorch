{
  "nbformat": 4,
  "nbformat_minor": 0,
  "metadata": {
    "orig_nbformat": 2,
    "colab": {
      "name": "Байнов Лр №6.1.ipynb",
      "provenance": [],
      "collapsed_sections": []
    },
    "language_info": {
      "name": "python"
    },
    "kernelspec": {
      "name": "python3",
      "display_name": "Python 3"
    }
  },
  "cells": [
    {
      "cell_type": "code",
      "metadata": {
        "id": "lepJd9qHtJPV"
      },
      "source": [
        "#Подобрать  padding"
      ],
      "execution_count": 2,
      "outputs": []
    },
    {
      "cell_type": "code",
      "metadata": {
        "colab": {
          "base_uri": "https://localhost:8080/"
        },
        "id": "Go_zOIIatJPf",
        "outputId": "9021f81c-4fc9-49ed-80fc-7f80619acd12"
      },
      "source": [
        "import torch\n",
        "\n",
        "N = 4\n",
        "C = 3\n",
        "C_out = 10\n",
        "H = 8\n",
        "W = 16\n",
        "\n",
        "x = torch.ones((N, C, H, W))\n",
        "\n",
        "#torch.Size([4, 10, 8, 16])\n",
        "out1 = torch.nn.Conv2d(C, C_out, kernel_size=(3, 3), padding=1)(x)\n",
        "print(out1.shape) # для самопроверки\n",
        "\n",
        "#torch.Size([4, 10, 8, 16])\n",
        "out2 = torch.nn.Conv2d(C, C_out, kernel_size=(5, 5), padding=2)(x)\n",
        "print(out2.shape) # для самопроверки\n",
        "\n",
        " #torch.Size([4, 10, 8, 16])\n",
        "out3 = torch.nn.Conv2d(C, C_out, kernel_size=(7, 7), padding=3)(x)\n",
        "print(out3.shape) # для самопроверки\n",
        "\n",
        "# torch.Size([4, 10, 8, 16])\n",
        "out4 = torch.nn.Conv2d(C, C_out, kernel_size=(9, 9), padding=4)(x)\n",
        "print(out4.shape) # для самопроверки\n",
        "\n",
        "# torch.Size([4, 10, 8, 16])\n",
        "out5 = torch.nn.Conv2d(C, C_out, kernel_size=(3, 5), padding=(1,2))(x)\n",
        "print(out5.shape) # для самопроверки\n",
        "\n",
        "# torch.Size([4, 10, 22, 30])\n",
        "out6 = torch.nn.Conv2d(C, C_out, kernel_size=(3, 3), padding=8)(x)\n",
        "print(out6.shape) # для самопроверки\n",
        "\n",
        "# torch.Size([4, 10, 7, 15])\n",
        "out7 = torch.nn.Conv2d(C, C_out, kernel_size=(4, 4), padding=1)(x)\n",
        "print(out7.shape) # для самопроверки\n",
        "\n",
        "# torch.Size([4, 10, 9, 17])\n",
        "out8 = torch.nn.Conv2d(C, C_out, kernel_size=(2, 2), padding=1)(x)\n",
        "print(out8.shape) # для самопроверки"
      ],
      "execution_count": 4,
      "outputs": [
        {
          "output_type": "stream",
          "text": [
            "torch.Size([4, 10, 8, 16])\n",
            "torch.Size([4, 10, 8, 16])\n",
            "torch.Size([4, 10, 8, 16])\n",
            "torch.Size([4, 10, 8, 16])\n",
            "torch.Size([4, 10, 8, 16])\n",
            "torch.Size([4, 10, 22, 30])\n",
            "torch.Size([4, 10, 7, 15])\n",
            "torch.Size([4, 10, 9, 17])\n"
          ],
          "name": "stdout"
        }
      ]
    }
  ]
}