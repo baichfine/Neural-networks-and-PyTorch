{
  "nbformat": 4,
  "nbformat_minor": 0,
  "metadata": {
    "orig_nbformat": 2,
    "colab": {
      "name": "lab7_task2.ipynb",
      "provenance": []
    },
    "language_info": {
      "name": "python"
    },
    "kernelspec": {
      "name": "python3",
      "display_name": "Python 3"
    }
  },
  "cells": [
    {
      "cell_type": "markdown",
      "metadata": {
        "id": "nVvB7oALVicM"
      },
      "source": [
        "требуется реализовать функцию батч-нормализации без использования стандартной функции со следующими упрощениями:\n",
        "\n",
        "    Функция должна корректно работать только на этапе обучения.\n",
        "    Вход имеет размерность число элементов в батче * длина каждого инстанса.\n"
      ]
    },
    {
      "cell_type": "code",
      "metadata": {
        "id": "P6n4yfrYVicV"
      },
      "source": [
        "import torch\n",
        "import torch.nn as nn\n",
        "\n",
        "input_size = 7\n",
        "batch_size = 5\n",
        "input_tensor = torch.randn(batch_size, input_size, dtype=torch.float)\n",
        "\n",
        "eps = 1e-3\n",
        "batch_norm = nn.BatchNorm1d(input_size, eps=eps)\n",
        "batch_norm.bias.data = torch.randn(input_size, dtype=torch.float)\n",
        "batch_norm.weight.data = torch.randn(input_size, dtype=torch.float)\n",
        "\n",
        "\n",
        "def custom_batch_norm1d(input_tensor, weight, bias, eps):\n",
        "    normed_tensor = batch_norm.bias\n",
        "    G = batch_norm.weight\n",
        "    B = batch_norm.bias\n",
        "    M = torch.mean(input_tensor, dim=0)\n",
        "    D = torch.var(input_tensor,dim=0, unbiased = False)\n",
        "    normed_tensor = G*(input_tensor - M)/torch.sqrt(D+eps)+B\n",
        "    return normed_tensor\n",
        "\n"
      ],
      "execution_count": 75,
      "outputs": []
    },
    {
      "cell_type": "code",
      "metadata": {
        "colab": {
          "base_uri": "https://localhost:8080/"
        },
        "id": "QQsneM0bVicW",
        "outputId": "04753092-29d5-4464-d21b-34792e7a7075"
      },
      "source": [
        "# Проверка происходит автоматически вызовом следующего кода\n",
        "\n",
        "batch_norm_out = batch_norm(input_tensor)\n",
        "custom_batch_norm_out = custom_batch_norm1d(input_tensor, batch_norm.weight.data, batch_norm.bias.data, eps)\n",
        "\n",
        "print(torch.allclose(batch_norm_out, custom_batch_norm_out) \\\n",
        "      and batch_norm_out.shape == custom_batch_norm_out.shape)"
      ],
      "execution_count": 76,
      "outputs": [
        {
          "output_type": "stream",
          "text": [
            "True\n"
          ],
          "name": "stdout"
        }
      ]
    }
  ]
}