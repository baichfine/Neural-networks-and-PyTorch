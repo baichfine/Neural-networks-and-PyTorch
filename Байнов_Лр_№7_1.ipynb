{
  "nbformat": 4,
  "nbformat_minor": 0,
  "metadata": {
    "orig_nbformat": 2,
    "colab": {
      "name": "lab7_task1.ipynb",
      "provenance": []
    },
    "language_info": {
      "name": "python"
    },
    "kernelspec": {
      "name": "python3",
      "display_name": "Python 3"
    }
  },
  "cells": [
    {
      "cell_type": "markdown",
      "metadata": {
        "id": "L5Toxs7rVaLR"
      },
      "source": [
        "требуется реализовать функцию батч-нормализации без использования стандартной функции со следующими упрощениями:\n",
        "\n",
        "    Параметр Бета принимается равным 0.\n",
        "    Параметр Гамма принимается равным 1.\n",
        "    Функция должна корректно работать только на этапе обучения.\n",
        "    Вход имеет размерность число элементов в батче * длина каждого инстанса.\n"
      ]
    },
    {
      "cell_type": "code",
      "metadata": {
        "id": "xffxsrAMVaLc"
      },
      "source": [
        "import numpy as np\n",
        "import torch\n",
        "import torch.nn as nn\n",
        "\n",
        "def custom_batch_norm1d(input_tensor, eps):\n",
        "    normed_tensor = torch.Tensor([[0,0,0,0,0],[0,0,0,0,0]])\n",
        "    m = 2\n",
        "    B = 0 #Бета\n",
        "    G = 1 #Гамма\n",
        "    for i in range(0,len(input_tensor[0])):\n",
        "      M = (input_tensor[0][i]+input_tensor[1][i])/m\n",
        "      D = (np.square(input_tensor[0][i]-M)+np.square(input_tensor[1][i]-M))/m\n",
        "      normed_tensor[0][i] = G*(input_tensor[0][i]-M)/np.sqrt(D+eps)+B\n",
        "      normed_tensor[1][i] = G*(input_tensor[1][i]-M)/np.sqrt(D+eps)+B\n",
        "    return normed_tensor\n",
        "\n",
        "input_tensor = torch.Tensor([[0.0, 0, 1, 0, 2], [0, 1, 1, 0, 10]])\n",
        "batch_norm = nn.BatchNorm1d(input_tensor.shape[1], affine=False)\n",
        "\n"
      ],
      "execution_count": 5,
      "outputs": []
    },
    {
      "cell_type": "code",
      "metadata": {
        "colab": {
          "base_uri": "https://localhost:8080/"
        },
        "id": "dR265eHmVaLd",
        "outputId": "4321fa50-0ea4-4de5-8dca-a4bd894f7e65"
      },
      "source": [
        "# Проверка происходит автоматически вызовом следующего кода\n",
        "\n",
        "import numpy as np\n",
        "all_correct = True\n",
        "for eps_power in range(10):\n",
        "    eps = np.power(10., -eps_power)\n",
        "    batch_norm.eps = eps\n",
        "    batch_norm_out = batch_norm(input_tensor)\n",
        "    custom_batch_norm_out = custom_batch_norm1d(input_tensor, eps)\n",
        "\n",
        "    all_correct &= torch.allclose(batch_norm_out, custom_batch_norm_out)\n",
        "    all_correct &= batch_norm_out.shape == custom_batch_norm_out.shape\n",
        "print(all_correct)"
      ],
      "execution_count": 6,
      "outputs": [
        {
          "output_type": "stream",
          "text": [
            "True\n"
          ],
          "name": "stdout"
        }
      ]
    }
  ]
}