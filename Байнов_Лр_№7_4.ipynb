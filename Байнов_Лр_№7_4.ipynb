{
  "nbformat": 4,
  "nbformat_minor": 0,
  "metadata": {
    "orig_nbformat": 2,
    "colab": {
      "name": "lab7_task4.ipynb",
      "provenance": []
    },
    "language_info": {
      "name": "python"
    },
    "kernelspec": {
      "name": "python3",
      "display_name": "Python 3"
    }
  },
  "cells": [
    {
      "cell_type": "markdown",
      "metadata": {
        "id": "piPV7gF2x1E9"
      },
      "source": [
        "Слой батч-нормализации существует для входа любой размерности.\n",
        "\n",
        "В данном task4 рассмотрим его для входа из многоканальных двумерных тензоров, например, изображений.\n",
        "\n",
        "Если вытянуть каждый канал картинки в вектор, то вход будет трехмерным:\n",
        "\n",
        "    количество картинок в батче\n",
        "    число каналов в каждой картинке\n",
        "    число пикселей в картинке\n",
        "\n"
      ]
    },
    {
      "cell_type": "markdown",
      "metadata": {
        "id": "JH71i5Kxx1FA"
      },
      "source": [
        "![alt text](batchn.png)"
      ]
    },
    {
      "cell_type": "markdown",
      "metadata": {
        "id": "LVx9cFkzx1FB"
      },
      "source": [
        "Процесс нормализации:\n",
        "\n",
        "    Вход разбивается на срезы, параллельные синей части. То есть, каждый срез - это все пиксели всех изображений по одному из каналов.\n",
        "    Для каждого среза считаются мат. ожидание и дисперсия.\n",
        "    Каждый срез нормализуется независимо.\n",
        "\n",
        " \n",
        "\n",
        "<b><u>Задача</u></b>: реализовать батч-норм слой для четырехмерного входа (например, батч из многоканальных двумерных картинок) без использования стандартной реализации со следующими упрощениями:\n",
        "\n",
        "    Параметр Бета = 0.\n",
        "    Параметр Гамма = 1.\n",
        "    Функция должна корректно работать только на этапе обучения.\n"
      ]
    },
    {
      "cell_type": "code",
      "metadata": {
        "id": "lCeofG1Xx1FD"
      },
      "source": [
        "import torch\n",
        "import torch.nn as nn\n",
        "\n",
        "eps = 1e-3\n",
        "\n",
        "input_channels = 3\n",
        "batch_size = 3\n",
        "height = 10\n",
        "width = 10\n",
        "\n",
        "batch_norm_2d = nn.BatchNorm2d(input_channels, affine=False, eps=eps)\n",
        "\n",
        "input_tensor = torch.randn(batch_size, input_channels, height, width, dtype=torch.float)\n",
        "\n",
        "\n",
        "def custom_batch_norm2d(input_tensor, eps):\n",
        "    arraysD = [input_tensor[:, i, ...].var(unbiased=False) for i in range(input_channels)]\n",
        "    M = input_tensor.mean(dim=(0, 2, 3)).view(1, -1, 1, 1)\n",
        "    D = torch.tensor(arraysD).view(1, -1, 1, 1)\n",
        "    normed_tensor = (input_tensor - M) / torch.sqrt(D + eps)\n",
        "    return normed_tensor\n",
        "\n"
      ],
      "execution_count": 67,
      "outputs": []
    },
    {
      "cell_type": "code",
      "metadata": {
        "colab": {
          "base_uri": "https://localhost:8080/"
        },
        "id": "05Jz6Syux1FD",
        "outputId": "f6a6a3fa-ed48-4b72-b172-46b875c6b288"
      },
      "source": [
        "# Проверка происходит автоматически вызовом следующего кода\n",
        "\n",
        "norm_output = batch_norm_2d(input_tensor)\n",
        "custom_output = custom_batch_norm2d(input_tensor, eps)\n",
        "print(torch.allclose(norm_output, custom_output) and norm_output.shape == custom_output.shape)"
      ],
      "execution_count": 68,
      "outputs": [
        {
          "output_type": "stream",
          "text": [
            "True\n"
          ],
          "name": "stdout"
        }
      ]
    }
  ]
}